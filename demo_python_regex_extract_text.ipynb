{
  "nbformat": 4,
  "nbformat_minor": 0,
  "metadata": {
    "colab": {
      "name": "demo-python-regex-extract-text.ipynb",
      "provenance": [],
      "collapsed_sections": [],
      "include_colab_link": true
    },
    "kernelspec": {
      "name": "python3",
      "display_name": "Python 3"
    }
  },
  "cells": [
    {
      "cell_type": "markdown",
      "metadata": {
        "id": "view-in-github",
        "colab_type": "text"
      },
      "source": [
        "<a href=\"https://colab.research.google.com/github/wshuyi/demo-python-regex-extract-text/blob/master/demo_python_regex_extract_text.ipynb\" target=\"_parent\"><img src=\"https://colab.research.google.com/assets/colab-badge.svg\" alt=\"Open In Colab\"/></a>"
      ]
    },
    {
      "cell_type": "code",
      "metadata": {
        "id": "jEZbvf913EPz",
        "colab_type": "code",
        "colab": {}
      },
      "source": [
        "import re"
      ],
      "execution_count": 0,
      "outputs": []
    },
    {
      "cell_type": "code",
      "metadata": {
        "id": "PY4T9E5J3JTo",
        "colab_type": "code",
        "colab": {}
      },
      "source": [
        "data = \"\"\"张华考上了北京大学\n",
        "李萍进了中等技术学校\n",
        "韩梅梅进了百货公司\n",
        "他们都有光明的前途\"\"\""
      ],
      "execution_count": 0,
      "outputs": []
    },
    {
      "cell_type": "code",
      "metadata": {
        "id": "fyYW18Cv3U6s",
        "colab_type": "code",
        "colab": {}
      },
      "source": [
        "regex = r\"(.*)[考|进].*了(.*)\""
      ],
      "execution_count": 0,
      "outputs": []
    },
    {
      "cell_type": "code",
      "metadata": {
        "id": "C_KTX2vG37AZ",
        "colab_type": "code",
        "colab": {}
      },
      "source": [
        "mylist = []"
      ],
      "execution_count": 0,
      "outputs": []
    },
    {
      "cell_type": "code",
      "metadata": {
        "id": "yvR4EkU-3Zrb",
        "colab_type": "code",
        "colab": {}
      },
      "source": [
        "for line in data.split('\\n'):\n",
        "  mysearch = re.search(regex, line)\n",
        "  if mysearch:\n",
        "    name = mysearch.group(1)\n",
        "    dest = mysearch.group(2)\n",
        "    mylist.append((name, dest))\n"
      ],
      "execution_count": 0,
      "outputs": []
    },
    {
      "cell_type": "code",
      "metadata": {
        "id": "83a2xdRg3_jt",
        "colab_type": "code",
        "colab": {}
      },
      "source": [
        "mylist"
      ],
      "execution_count": 0,
      "outputs": []
    },
    {
      "cell_type": "code",
      "metadata": {
        "id": "7DnDzUTn4BDW",
        "colab_type": "code",
        "colab": {}
      },
      "source": [
        "import pandas as pd"
      ],
      "execution_count": 0,
      "outputs": []
    },
    {
      "cell_type": "code",
      "metadata": {
        "id": "gWfTZ2qp4CiP",
        "colab_type": "code",
        "colab": {}
      },
      "source": [
        "df = pd.DataFrame(mylist)\n",
        "df.columns = ['姓名', '去向']"
      ],
      "execution_count": 0,
      "outputs": []
    },
    {
      "cell_type": "code",
      "metadata": {
        "id": "e9ti6-8m4FG-",
        "colab_type": "code",
        "colab": {}
      },
      "source": [
        "df"
      ],
      "execution_count": 0,
      "outputs": []
    },
    {
      "cell_type": "code",
      "metadata": {
        "id": "Ae9puoPW4ODV",
        "colab_type": "code",
        "colab": {}
      },
      "source": [
        "df.to_excel(\"dest.xlsx\", index=False)"
      ],
      "execution_count": 0,
      "outputs": []
    }
  ]
}